{
 "cells": [
  {
   "attachments": {},
   "cell_type": "markdown",
   "metadata": {},
   "source": [
    "### **Preparing the [QMUL-OpenLogo](https://hangsu0730.github.io/qmul-openlogo/) Dataset for yolov5**\n",
    "\n",
    "This notebook should\n",
    "- Download the QMUL-OpenLogo dataset from Google Drive\n",
    "- Create `/datasets/openlogo` with\n",
    "    - yolo labels (.txt) in `/labels`\n",
    "    - images (.jpg) in `/images`\n",
    "    - classes and split (.txt) in `/details`\n",
    "- Delete leftover files from download"
   ]
  },
  {
   "cell_type": "code",
   "execution_count": 2,
   "metadata": {},
   "outputs": [],
   "source": [
    "import xml.etree.ElementTree as et\n",
    "import os\n",
    "import shutil\n",
    "import math\n",
    "import tarfile\n",
    "import gdown"
   ]
  },
  {
   "cell_type": "code",
   "execution_count": null,
   "metadata": {},
   "outputs": [],
   "source": [
    "# Download openlogo.tar\n",
    "os.mkdir('datasets')\n",
    "gdown.download(id='1p1BWofDJOKXqCtO0JPT5VyuIPOsuxOuj', output='datasets/openlogo.tar', quiet=False)"
   ]
  },
  {
   "cell_type": "code",
   "execution_count": null,
   "metadata": {},
   "outputs": [],
   "source": [
    "# Extract openlogo.tar\n",
    "tarfile.open('datasets/openlogo.tar').extractall('datasets')\n",
    "os.remove('datasets/openlogo.tar')\n",
    "os.rename('datasets/openlogo', 'datasets/openlogo-voc')"
   ]
  },
  {
   "cell_type": "code",
   "execution_count": null,
   "metadata": {},
   "outputs": [],
   "source": [
    "# Download supervised imageset split\n",
    "gdown.download(id='1KBiq8Xi6jBkGKwfP10mO54BgjYlpij_n', output='datasets/openlogo-voc/imageSets/supervised_imageset.tar', quiet=False)\n",
    "tarfile.open('datasets/openlogo-voc/imageSets/supervised_imageset.tar').extractall('datasets/openlogo-voc/imageSets/')\n",
    "os.remove('datasets/openlogo-voc/imageSets/supervised_imageset.tar')"
   ]
  },
  {
   "cell_type": "code",
   "execution_count": null,
   "metadata": {},
   "outputs": [],
   "source": [
    "# Create directories \n",
    "os.mkdir('datasets/openlogo')\n",
    "\n",
    "os.mkdir('datasets/openlogo/images')\n",
    "os.mkdir('datasets/openlogo/labels')\n",
    "os.mkdir('datasets/openlogo/details')\n",
    "\n",
    "os.mkdir('datasets/openlogo/images/train')\n",
    "os.mkdir('datasets/openlogo/images/val')\n",
    "os.mkdir('datasets/openlogo/images/test')\n",
    "\n",
    "os.mkdir('datasets/openlogo/labels/train')\n",
    "os.mkdir('datasets/openlogo/labels/val')\n",
    "os.mkdir('datasets/openlogo/labels/test')"
   ]
  },
  {
   "attachments": {},
   "cell_type": "markdown",
   "metadata": {},
   "source": [
    "### Converting VOC annotations to yolo labels"
   ]
  },
  {
   "cell_type": "code",
   "execution_count": null,
   "metadata": {},
   "outputs": [],
   "source": [
    "# Create class name to id map\n",
    "# Initalize dict to hold instances\n",
    "class_names = []\n",
    "\n",
    "# Iterate through each XMLs\n",
    "for filename in os.listdir('datasets/openlogo-voc/annotations'):\n",
    "    xml_file = os.path.join('datasets/openlogo-voc/annotations', filename)\n",
    "    root = et.parse(xml_file).getroot()\n",
    "\n",
    "    # Get class name and add if needed\n",
    "    for object_elem in root.findall('object'):\n",
    "        class_name = object_elem.find('name').text\n",
    "        if class_name not in class_names:\n",
    "            class_names.append(class_name)\n",
    "            \n",
    "# Save class list in .txt\n",
    "class_names.sort()\n",
    "print('\\n'.join(class_names), file=open('datasets/openlogo/details/class-list.txt', 'w'))\n",
    "\n",
    "# Map ids to classes\n",
    "class_name_id_map = {}\n",
    "for i in range(len(class_names)):\n",
    "    class_name_id_map[class_names[i]] = i\n",
    "\n",
    "# Save map in .txt\n",
    "formatted_map = []\n",
    "for class_name in class_names:\n",
    "    formatted_map.append('{}: {}'.format(class_name_id_map[class_name], class_name))\n",
    "formatted_map = '\\n'.join(formatted_map)\n",
    "print(formatted_map, file=open('datasets/openlogo/details/class-id-map.txt', 'w'))"
   ]
  },
  {
   "cell_type": "code",
   "execution_count": null,
   "metadata": {},
   "outputs": [],
   "source": [
    "# Generate yolo labels from each XML\n",
    "# Iterate through each XML\n",
    "for filename in os.listdir('datasets/openlogo-voc/annotations'):\n",
    "    xml_file = os.path.join('datasets/openlogo-voc/annotations', filename)\n",
    "    root = et.parse(xml_file).getroot()\n",
    "\n",
    "    # Initialize dict to hold annotation data\n",
    "    voc_annotation = {}\n",
    "    voc_annotation['bnboxes'] = []\n",
    "\n",
    "    # Parse XML Tree\n",
    "    voc_annotation['id'] = os.path.splitext(root.find('filename').text)[0]\n",
    "    size_elem = root.find('size')\n",
    "    voc_annotation['size'] = {}\n",
    "    voc_annotation['size']['width'] = int(size_elem.find('width').text)\n",
    "    voc_annotation['size']['height'] = int(size_elem.find('height').text)\n",
    "    \n",
    "    for object in root.findall('object'):\n",
    "        bnbox = {}\n",
    "        bnbox['class'] = object.find('name').text\n",
    "        bnbox_elem = object.find('bndbox')\n",
    "        bnbox['xmin'] = int(bnbox_elem.find('xmin').text)\n",
    "        bnbox['ymin'] = int(bnbox_elem.find('ymin').text)\n",
    "        bnbox['xmax'] = int(bnbox_elem.find('xmax').text)\n",
    "        bnbox['ymax'] = int(bnbox_elem.find('ymax').text)\n",
    "        voc_annotation['bnboxes'].append(bnbox)\n",
    "\n",
    "    # Initialize list to hold yolo label\n",
    "    yolo_label = []\n",
    "\n",
    "    # Iterate through each annotation box\n",
    "    for bnbox in voc_annotation['bnboxes']:\n",
    "\n",
    "        # Normalize Pascal VOC info for yolo label\n",
    "        image_width = voc_annotation['size']['width']\n",
    "        image_height = voc_annotation['size']['height']\n",
    "\n",
    "        class_id = class_name_id_map[bnbox['class']]\n",
    "\n",
    "        bnbox_x_center = ((bnbox['xmin'] + bnbox['xmax']) / 2) / image_width\n",
    "        bnbox_y_center = ((bnbox['ymin'] + bnbox['ymax']) / 2) / image_height\n",
    "        bnbox_width = (bnbox['xmax'] - bnbox['xmin']) / image_width\n",
    "        bnbox_height = (bnbox['ymax'] - bnbox['ymin']) / image_height\n",
    "\n",
    "        # Save normalized info to list\n",
    "        yolo_label.append('{} {:.6f} {:.6f} {:.6f} {:.6f}'.format(class_id, bnbox_x_center, bnbox_y_center, bnbox_width, bnbox_height))\n",
    "\n",
    "    # Save formatted annotation to .txt\n",
    "    save_filename = voc_annotation['id'] + '.txt'\n",
    "    save_file = os.path.join('datasets/openlogo/labels', save_filename)\n",
    "    print('\\n'.join(yolo_label), file=open(save_file, 'w'))"
   ]
  },
  {
   "attachments": {},
   "cell_type": "markdown",
   "metadata": {},
   "source": [
    "### Splitting Dataset"
   ]
  },
  {
   "cell_type": "code",
   "execution_count": null,
   "metadata": {},
   "outputs": [],
   "source": [
    "# Copy supervised imageset split\n",
    "for filename in os.listdir('datasets/openlogo-voc/imagesets/supervised_imageset'):\n",
    "    src_file = os.path.join('datasets/openlogo-voc/imagesets/supervised_imageset', filename)\n",
    "    dst_file = os.path.join('datasets/openlogo/details', filename)\n",
    "    shutil.copy(src_file, dst_file)\n",
    "\n",
    "#Parse supervised imageset split\n",
    "test_split = open('datasets/openlogo/details/test.txt', 'r').read().split('\\n')\n",
    "test_split.pop()\n",
    "\n",
    "val_split = open('datasets/openlogo/details/val.txt', 'r').read().split('\\n')\n",
    "val_split.pop()\n",
    "\n",
    "train_split = open('datasets/openlogo/details/train.txt', 'r').read().split('\\n')\n",
    "train_split.pop()"
   ]
  },
  {
   "cell_type": "code",
   "execution_count": null,
   "metadata": {},
   "outputs": [],
   "source": [
    "# Move images and labels to corresponding folder\n",
    "for id in train_split:\n",
    "    txt_file = os.path.join('datasets/openlogo/labels', id + '.txt')\n",
    "    shutil.move(txt_file, 'datasets/openlogo/labels/train')\n",
    "\n",
    "    jpg_file = os.path.join('datasets/openlogo-voc/JPEGImages', id + '.jpg')\n",
    "    shutil.move(jpg_file, 'datasets/openlogo/images/train')\n",
    "\n",
    "for id in val_split:\n",
    "    txt_file = os.path.join('datasets/openlogo/labels', id + '.txt')\n",
    "    shutil.move(txt_file, 'datasets/openlogo/labels/val')\n",
    "\n",
    "    jpg_file = os.path.join('datasets/openlogo-voc/JPEGImages', id + '.jpg')\n",
    "    shutil.move(jpg_file, 'datasets/openlogo/images/val')\n",
    "\n",
    "for id in test_split:\n",
    "    txt_file = os.path.join('datasets/openlogo/labels', id + '.txt')\n",
    "    shutil.move(txt_file, 'datasets/openlogo/labels/test')\n",
    "\n",
    "    jpg_file = os.path.join('datasets/openlogo-voc/JPEGImages', id + '.jpg')\n",
    "    shutil.move(jpg_file, 'datasets/openlogo/images/test')"
   ]
  },
  {
   "attachments": {},
   "cell_type": "markdown",
   "metadata": {},
   "source": [
    "### Creating .yaml for training"
   ]
  },
  {
   "cell_type": "code",
   "execution_count": 3,
   "metadata": {},
   "outputs": [],
   "source": [
    "# Create openlogo.yaml\n",
    "yaml = '''path: ../datasets/openlogo\n",
    "train: images/train\n",
    "val: images/val\n",
    "test: images/test\n",
    "\n",
    "names:'''\n",
    "\n",
    "class_id_file = 'datasets/openlogo/details/class-id-map.txt'\n",
    "class_ids = open(class_id_file, 'r').read().split('\\n')\n",
    "class_ids.pop()\n",
    "\n",
    "for class_id in class_ids:\n",
    "    yaml += '\\n  {}'.format(class_id)\n",
    "\n",
    "print(yaml, file=open('openlogo.yaml', 'w'))\n",
    "\n",
    "# TO TRAIN: python train.py --data ../openlogo.yaml --hyp ../hyp.openlogo.yaml --weights yolov5s.pt --img 640 --batch-size 32 --epochs 150 --name logo-det --save-period 50\n",
    "# TO RESUME: python train.py --resume"
   ]
  },
  {
   "attachments": {},
   "cell_type": "markdown",
   "metadata": {},
   "source": [
    "### DESTRUCTIVE: Cleanup"
   ]
  },
  {
   "cell_type": "code",
   "execution_count": null,
   "metadata": {},
   "outputs": [],
   "source": [
    "# Remove leftover openlogo files\n",
    "shutil.rmtree('datasets/openlogo-voc')"
   ]
  },
  {
   "attachments": {},
   "cell_type": "markdown",
   "metadata": {},
   "source": [
    "To test: python detect.py --weights ../logo-det.pt --source 0 --nosave"
   ]
  }
 ],
 "metadata": {
  "kernelspec": {
   "display_name": "Python 3 (ipykernel)",
   "language": "python",
   "name": "python3"
  },
  "language_info": {
   "codemirror_mode": {
    "name": "ipython",
    "version": 3
   },
   "file_extension": ".py",
   "mimetype": "text/x-python",
   "name": "python",
   "nbconvert_exporter": "python",
   "pygments_lexer": "ipython3",
   "version": "3.10.9"
  },
  "vscode": {
   "interpreter": {
    "hash": "ce1e2dc1913f4067280215715469665255d604b1ffc918ef8c9d65aee97a3e85"
   }
  }
 },
 "nbformat": 4,
 "nbformat_minor": 2
}
